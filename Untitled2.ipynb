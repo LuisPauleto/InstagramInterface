{
  "nbformat": 4,
  "nbformat_minor": 0,
  "metadata": {
    "colab": {
      "provenance": [],
      "authorship_tag": "ABX9TyO4syo48yvqnZ2SwzF/6CY0",
      "include_colab_link": true
    },
    "kernelspec": {
      "name": "python3",
      "display_name": "Python 3"
    },
    "language_info": {
      "name": "python"
    }
  },
  "cells": [
    {
      "cell_type": "markdown",
      "metadata": {
        "id": "view-in-github",
        "colab_type": "text"
      },
      "source": [
        "<a href=\"https://colab.research.google.com/github/LuisPauleto/InstagramInterface/blob/main/Untitled2.ipynb\" target=\"_parent\"><img src=\"https://colab.research.google.com/assets/colab-badge.svg\" alt=\"Open In Colab\"/></a>"
      ]
    },
    {
      "cell_type": "code",
      "execution_count": 19,
      "metadata": {
        "colab": {
          "base_uri": "https://localhost:8080/"
        },
        "id": "53G_2he4a5oj",
        "outputId": "3c178515-a03b-4004-e0db-dbf2d991265c"
      },
      "outputs": [
        {
          "output_type": "stream",
          "name": "stdout",
          "text": [
            "Digite seu nome: Luis\n",
            "digite o ano do seu nascimento: 1997\n",
            "Você já tem 18, pode comprar\n"
          ]
        }
      ],
      "source": [
        "## Você deverá utilizar o que aprendeu nas aulas de condicionais para\n",
        "## desenvolver os desafios a seguir:\n",
        "##1. Seu primeiro desafio é desenvolver um programa para um depósito de\n",
        "##bebidas que valide venda de bebidas para maiores de idade (maior ou\n",
        "##igual 18 anos) no mercado, o programa deve receber do usuário os\n",
        "####valores do nome e ano que ele nasceu e retornar se ele pode comprar\n",
        "####bebidas.\n",
        "##2. Esse bimestre na faculdade você precisa tirar nota 8 de média para\n",
        "##passar na matéria, desenvolva um script que leia a nota de suas\n",
        "##últimas 3 provas, tire a média delas e verifique se você passou.\n",
        "##3. A fisioterapeuta que você vai gosta muito de brincar com números, e\n",
        "##pediu para você criar um sistema que verifique se a altura inserida é\n",
        "##par ou impar.\n",
        "##4. Faça um script que você coloque a quantidade de dias e descubra em\n",
        "##qual trimestre esse dia está no ano.\n",
        "##5. Desenvolva um sistema que leia 3 números e diga qual é o maior (se\n",
        "##houver empate, exiba os empatados).\n",
        "\n",
        "\n",
        "\n",
        "# EXERCICIO 1\n",
        "nome = input(\"Digite seu nome: \")\n",
        "idade = int(input(\"digite o ano do seu nascimento: \"))\n",
        "if(idade >= 2005):\n",
        "  print(\"Opa! Você ainda não pode consumir bebidas alcoolicas\")\n",
        "else:\n",
        "  print(\"Você já tem 18, pode comprar\")\n",
        "\n"
      ]
    },
    {
      "cell_type": "code",
      "source": [],
      "metadata": {
        "id": "CUFHtf1ugipu"
      },
      "execution_count": null,
      "outputs": []
    },
    {
      "cell_type": "code",
      "source": [
        "# EXERCICIO 2\n",
        "n1 = float(input(\"Digite a sua nota1: \"))\n",
        "n2 = float(input(\"Digite a sua nota2: \"))\n",
        "n3 = float(input(\"Digite a sua nota3: \"))\n",
        "media = n1 + n2 + n3\n",
        "media_final = media / 3\n",
        "media_aprova = 8\n",
        "if(media_final <= media_aprova):\n",
        "  print(\"Média abaixo de 8, REPROVADO\")\n",
        "else:\n",
        "  print(\"Parabéns, você passou nesse bimestre\")"
      ],
      "metadata": {
        "colab": {
          "base_uri": "https://localhost:8080/"
        },
        "id": "mkwBbG7ZcQGy",
        "outputId": "53b5d55e-6713-4d6e-8730-8f8aac38a2c6"
      },
      "execution_count": 18,
      "outputs": [
        {
          "output_type": "stream",
          "name": "stdout",
          "text": [
            "Digite a sua nota1: 8\n",
            "Digite a sua nota2: 7\n",
            "Digite a sua nota3: 6\n",
            "Média abaixo de 8, REPROVADO\n"
          ]
        }
      ]
    },
    {
      "cell_type": "code",
      "source": [
        "# EXERCICIO 3\n",
        "##3. A fisioterapeuta que você vai gosta muito de brincar com números, e\n",
        "##pediu para você criar um sistema que verifique se a altura inserida é\n",
        "##par ou impar.\n",
        "altura = float(input(\"Digite a sua altura: \"))\n",
        "if(altura % 2 == 0):\n",
        "  print(\"Essa altura é PAR\")\n",
        "else:\n",
        "  print(\"Essa altura é IMPAR\")\n"
      ],
      "metadata": {
        "colab": {
          "base_uri": "https://localhost:8080/"
        },
        "id": "XEDttT-XddFk",
        "outputId": "9006f8b7-8406-4943-8541-e50a59473f53"
      },
      "execution_count": 25,
      "outputs": [
        {
          "output_type": "stream",
          "name": "stdout",
          "text": [
            "Digite a sua altura: 177\n",
            "Essa altura é IMPAR\n"
          ]
        }
      ]
    },
    {
      "cell_type": "code",
      "source": [
        "##4. Faça um script que você coloque a quantidade de dias e descubra em\n",
        "##qual trimestre esse dia está no ano.]\n",
        "trimestre1 = 92\n",
        "trimestre2 = 184\n",
        "trimestre3 = 276\n",
        "trimestre4 = 277\n",
        "dias_ano = 365\n",
        "\n",
        "qtd_dias = int(input(\"Digite a quantidade de dias: \"))\n",
        "if(qtd_dias <= trimestre1):\n",
        "  print(\"Você está no primeiro trimestre\")\n",
        "elif(qtd_dias > trimestre1 and qtd_dias < trimestre3):\n",
        "  print(\"Você está no segundo trimestre\")\n",
        "elif(qtd_dias > trimestre2 and qtd_dias < trimestre4):\n",
        "  print('Você está no terceiro trimestre')\n",
        "elif(qtd_dias > trimestre3 and qtd_dias <= dias_ano):\n",
        "  print(\"Você está no quarto trimestre\")\n",
        "else:\n",
        "  print(\"Valor inserido não encontrado no ano\")"
      ],
      "metadata": {
        "colab": {
          "base_uri": "https://localhost:8080/"
        },
        "id": "TMzFhJBPeWws",
        "outputId": "3f5c4c33-892f-4207-a3b7-86349997d17d"
      },
      "execution_count": 42,
      "outputs": [
        {
          "output_type": "stream",
          "name": "stdout",
          "text": [
            "Digite a quantidade de dias: 67\n",
            "Você está no primeiro trimestre\n"
          ]
        }
      ]
    }
  ]
}